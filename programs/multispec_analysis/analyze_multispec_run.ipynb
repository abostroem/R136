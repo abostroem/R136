{
 "metadata": {
  "name": "analyze_multispec_run"
 },
 "nbformat": 3,
 "nbformat_minor": 0,
 "worksheets": [
  {
   "cells": [
    {
     "cell_type": "markdown",
     "metadata": {},
     "source": [
      "#Directions\n",
      "\n",
      "For each slit run: \n",
      "\n",
      "* make_pdf\n",
      "* comp_back_and_spec_in_middle\n",
      "* comp_back_and_stellar_flux\n",
      "* make_diagnostic_plot"
     ]
    },
    {
     "cell_type": "code",
     "collapsed": false,
     "input": [],
     "language": "python",
     "metadata": {},
     "outputs": []
    },
    {
     "cell_type": "markdown",
     "metadata": {},
     "source": [
      "#Create Plots of Output Images"
     ]
    },
    {
     "cell_type": "code",
     "collapsed": false,
     "input": [
      "from matplotlib import pyplot\n",
      "from astropy.io import fits\n",
      "import glob\n",
      "from matplotlib.backends.backend_pdf import PdfPages\n",
      "import os"
     ],
     "language": "python",
     "metadata": {},
     "outputs": [],
     "prompt_number": 1
    },
    {
     "cell_type": "code",
     "collapsed": false,
     "input": [
      "def make_plot(infile, vmin = 0, vmax = 50, pp = None, log = False):\n",
      "    '''\n",
      "    Plot an image\n",
      "    Inputs:\n",
      "        infile - name of image to be plot\n",
      "        vmin = contast minimum to be fed to imshow (default = 0)\n",
      "        vmax - contast maximum to be fed to imshow (default = 50)\n",
      "        pp = multipage pdf object. Used to plot multiple images to 1 pdf file (default = None)\n",
      "        log = show image in log space (bool, default = False)\n",
      "    '''\n",
      "    fig = pyplot.figure()\n",
      "    ax = fig.add_subplot(1,1,1)\n",
      "    img = fits.getdata(infile, 1)\n",
      "    if log:\n",
      "        disp = ax.imshow(np.log10(img), interpolation = 'nearest', vmin = vmin, vmax = vmax, cmap = 'bone')\n",
      "    else:\n",
      "        disp = ax.imshow(img, interpolation = 'nearest', vmin = vmin, vmax = vmax, cmap = 'bone')\n",
      "    plot_spec_loc(ax = ax)\n",
      "    ax.set_xlim(0, 1024)\n",
      "    ax.set_ylim(0, 1024)\n",
      "    ax.set_title(infile)\n",
      "    if pp:\n",
      "        pp.savefig()\n",
      "        pyplot.close()\n",
      "        return pp\n",
      "    pyplot.close()\n",
      "    "
     ],
     "language": "python",
     "metadata": {},
     "outputs": [],
     "prompt_number": 2
    },
    {
     "cell_type": "code",
     "collapsed": false,
     "input": [
      "def plot_spec_loc(ax = None):\n",
      "    '''\n",
      "    plot extracted star locations by reading extraction location from the extracted spectra files (star*.fits)\n",
      "    input:\n",
      "        ax = axis object to plot star locations on (default = None)\n",
      "    output:\n",
      "        ax (only if not None)\n",
      "    '''\n",
      "    if not ax:\n",
      "        fig = pyplot.figure()\n",
      "        ax = fig.add_subplot(1,1,1)\n",
      "    flist_x1d = glob.glob('*star????.fits')\n",
      "    for ifile in flist_x1d:\n",
      "        tbdata = fits.getdata(ifile, 1)\n",
      "        ax.plot(tbdata['X'], tbdata['Y'], 'r--')\n",
      "    if not ax:\n",
      "        pyplot.close()\n",
      "    else:\n",
      "        return ax"
     ],
     "language": "python",
     "metadata": {},
     "outputs": [],
     "prompt_number": 3
    },
    {
     "cell_type": "code",
     "collapsed": false,
     "input": [
      "def make_pdf(file_path, prefix):\n",
      "    '''\n",
      "    Create a single file with images of all of the output images from multispec (back, res, synt) and the original image. Over each image is plotted\n",
      "    the location of the extracted spectra. Assumes the original iamge is in ../../multispec/ccd_multispec/cropped_images/\n",
      "\n",
      "    input:\n",
      "        file_path - path to the multispec output directory\n",
      "        prefix - beginning of all of the filenames (usually targname+cenwave e.g. SE9_3936)\n",
      "    output:\n",
      "        file with images of all input files in the file_path directory called *preview.pdf\n",
      "    '''\n",
      "    exts = ['back_1', 'back_2', 'res_1', 'res_2', 'res_3', 'synt_1', 'synt_2', 'synt_3']\n",
      "    #4.1 comes from histogram of image - max cts ~12000, log10(12000) = 4.1\n",
      "    contrast_limits = [(-3, 3), (-3, 3), (-30, 30), (-30, 30), (-30, 30), (0, 4.1), (0, 4.1), (0, 4.1)]\n",
      "    starting_dir = os.getcwd()\n",
      "    os.chdir(file_path)\n",
      "    orig_prefix = prefix\n",
      "    prefix += '_combined_img_ext001_'\n",
      "    pdf_obj = PdfPages('{}_preview.pdf'.format(prefix))\n",
      "\n",
      "    for clim, ext in zip(contrast_limits, exts):\n",
      "        filename = prefix+ext+'.fits'\n",
      "        pdf_obj = make_plot(filename, pp = pdf_obj, vmin = clim[0], vmax = clim[1])\n",
      "    os.chdir(starting_dir)\n",
      "    os.chdir('../../multispec/ccd_multispec/cropped_images/')\n",
      "    pdf_obj = make_plot(orig_prefix+'_combined_img.fits', pp = pdf_obj, vmin = clim[0], vmax = clim[1])\n",
      "    pdf_obj.close()\n",
      "    os.chdir(starting_dir)"
     ],
     "language": "python",
     "metadata": {},
     "outputs": [],
     "prompt_number": 4
    },
    {
     "cell_type": "markdown",
     "metadata": {},
     "source": [
      "##Testing"
     ]
    },
    {
     "cell_type": "code",
     "collapsed": false,
     "input": [
      "make_pdf('../../multispec/2014_06_19_crback_20/out', 'NW1_3936')"
     ],
     "language": "python",
     "metadata": {},
     "outputs": [],
     "prompt_number": 40
    },
    {
     "cell_type": "code",
     "collapsed": false,
     "input": [
      "make_pdf('../../multispec/2014_06_02_crback_15/out', 'NW1_3936')"
     ],
     "language": "python",
     "metadata": {},
     "outputs": [],
     "prompt_number": 41
    },
    {
     "cell_type": "code",
     "collapsed": false,
     "input": [
      "make_pdf('../../multispec/2014_06_20_crback_50/out', 'NW1_3936')"
     ],
     "language": "python",
     "metadata": {},
     "outputs": [],
     "prompt_number": 44
    },
    {
     "cell_type": "code",
     "collapsed": false,
     "input": [
      "make_pdf('../../multispec/2014_06_20_crback_default/out', 'NW1_3936')"
     ],
     "language": "python",
     "metadata": {},
     "outputs": [],
     "prompt_number": 45
    },
    {
     "cell_type": "code",
     "collapsed": false,
     "input": [
      "make_pdf('../../multispec/2014_06_20_crback_10/out', 'NW1_3936')"
     ],
     "language": "python",
     "metadata": {},
     "outputs": [],
     "prompt_number": 46
    },
    {
     "cell_type": "code",
     "collapsed": false,
     "input": [
      "make_pdf('../../multispec/2014_06_20_ncelly_32/out', 'NW1_3936')"
     ],
     "language": "python",
     "metadata": {},
     "outputs": [],
     "prompt_number": 47
    },
    {
     "cell_type": "code",
     "collapsed": false,
     "input": [
      "make_pdf('../../multispec/2014_06_20_ncelly_default/out', 'NW1_3936')"
     ],
     "language": "python",
     "metadata": {},
     "outputs": [],
     "prompt_number": 48
    },
    {
     "cell_type": "code",
     "collapsed": false,
     "input": [
      "make_pdf('../../multispec/2014_06_25_DM_phot/out', 'NW1_3936')"
     ],
     "language": "python",
     "metadata": {},
     "outputs": [],
     "prompt_number": 6
    },
    {
     "cell_type": "code",
     "collapsed": false,
     "input": [
      "make_pdf('../../multispec/2014_06_25_DM_phot_ncelly_8/out', 'NW1_3936')"
     ],
     "language": "python",
     "metadata": {},
     "outputs": [],
     "prompt_number": 7
    },
    {
     "cell_type": "code",
     "collapsed": false,
     "input": [
      "make_pdf('../../multispec/2014_06_25_DM_phot_ncelly_3_crback_5/out', 'NW1_3936')"
     ],
     "language": "python",
     "metadata": {},
     "outputs": [],
     "prompt_number": 8
    },
    {
     "cell_type": "code",
     "collapsed": false,
     "input": [
      "make_pdf('../../multispec/2014_06_25_DM_phot_ncelly_1 _crback_1/out', 'NW1_3936')"
     ],
     "language": "python",
     "metadata": {},
     "outputs": [],
     "prompt_number": 9
    },
    {
     "cell_type": "markdown",
     "metadata": {},
     "source": [
      "##Slit 10"
     ]
    },
    {
     "cell_type": "code",
     "collapsed": false,
     "input": [
      "make_pdf('../../multispec/2014_06_27_slit10/out_phot5_final2/', 'NW1_3936')"
     ],
     "language": "python",
     "metadata": {},
     "outputs": [],
     "prompt_number": 18
    },
    {
     "cell_type": "code",
     "collapsed": false,
     "input": [
      "make_pdf('../../multispec/2014_06_27_slit10/out_final3/', 'NW1_3936')"
     ],
     "language": "python",
     "metadata": {},
     "outputs": [],
     "prompt_number": 88
    },
    {
     "cell_type": "code",
     "collapsed": false,
     "input": [
      "cd /Users/bostroem/R136/programs/multispec_analysis"
     ],
     "language": "python",
     "metadata": {},
     "outputs": [
      {
       "output_type": "stream",
       "stream": "stdout",
       "text": [
        "/Users/bostroem/R136/programs/multispec_analysis\n"
       ]
      }
     ],
     "prompt_number": 74
    },
    {
     "cell_type": "markdown",
     "metadata": {},
     "source": [
      "##Slit 1"
     ]
    },
    {
     "cell_type": "code",
     "collapsed": false,
     "input": [
      "make_pdf('../../multispec/2014_07_14_slit1/out_final1/', 'SE9_3936')"
     ],
     "language": "python",
     "metadata": {},
     "outputs": [],
     "prompt_number": 66
    },
    {
     "cell_type": "code",
     "collapsed": false,
     "input": [
      "make_pdf('../../multispec/2014_07_14_slit1/out_final3/', 'SE9_3936')"
     ],
     "language": "python",
     "metadata": {},
     "outputs": [],
     "prompt_number": 83
    },
    {
     "cell_type": "markdown",
     "metadata": {},
     "source": [
      "##Slit 2"
     ]
    },
    {
     "cell_type": "code",
     "collapsed": false,
     "input": [
      "make_pdf('../../multispec/2014_07_16_slit2/out_final1/', 'SE8_3936')"
     ],
     "language": "python",
     "metadata": {},
     "outputs": [],
     "prompt_number": 75
    },
    {
     "cell_type": "markdown",
     "metadata": {},
     "source": [
      "#Check Background"
     ]
    },
    {
     "cell_type": "code",
     "collapsed": false,
     "input": [
      "def comp_back_and_spec_in_middle(background_file, brightest_star_file):\n",
      "    '''\n",
      "    Compare the average background (per XD pixel) in the central region (y = 450-650) to the spectrum of the brightest star.\n",
      "    Plot axis scale may need to be adjusted and resaved manually.\n",
      "\n",
      "    Inputs:\n",
      "        background_file - the file of the last background (back_2.fits)\n",
      "        brightest_star_file - name of the file of the brightest star\n",
      "    Outputs:\n",
      "        a plot of the brightest star in the top plot (with wavelength plotted at the top of the plot and pixel number on the bottom)\n",
      "            and the background in the bottom plot (in pixel space). Plot is saved to the output folder as *background_bright_star_comp.pdf\n",
      "        \n",
      "    '''\n",
      "    back_img = fits.getdata(background_file, 1)\n",
      "    bright_star_tbdata = fits.getdata(brightest_star_file, 1)\n",
      "    collapsed_back = np.sum(back_img[450:650, :], axis = 0)/200.\n",
      "    pix = np.arange(1024)\n",
      "    fig = pyplot.figure(figsize = [15, 10])\n",
      "    ax1 = fig.add_subplot(2,1,1)\n",
      "    ax2 = fig.add_subplot(2,1,2)\n",
      "    ax2.plot(pix, collapsed_back)\n",
      "    ax1.plot(pix, bright_star_tbdata['cts'], 'b')\n",
      "    ax1.set_xlim(0, 1024)\n",
      "    ax2.set_xlim(0, 1024)\n",
      "    ax1.grid()\n",
      "    ax2.grid()\n",
      "    ax3 = ax1.twiny()\n",
      "    ax3.plot(bright_star_tbdata['wavelength'], bright_star_tbdata['cts'], 'r', label = 'Brightest Star')\n",
      "    ax3.set_xlim(np.min(bright_star_tbdata['wavelength']), np.max(bright_star_tbdata['wavelength']))\n",
      "    ax2.set_xlabel('Pixel')\n",
      "    ax1.set_xlabel('Pixel')\n",
      "    ax2.set_ylabel('Counts')\n",
      "    ax1.set_ylabel('Counts')\n",
      "    #print fits.getheader(bright_star_tbdata['targname'], 0)))\n",
      "    fig.suptitle('{}'.format(fits.getval(brightest_star_file,'targname', 0)))\n",
      "    back_ylim = ax2.get_ylim()\n",
      "    ax2.set_ylim(-1, back_ylim[1])\n",
      "    ax3.set_xlabel('Wavelength')\n",
      "    ax3.legend()\n",
      "    ax2.legend(['Background in center (450:650)'])\n",
      "    pyplot.savefig(background_file[:-11]+'background_bright_star_comp.pdf')\n",
      "    #pyplot.close()"
     ],
     "language": "python",
     "metadata": {},
     "outputs": [],
     "prompt_number": 5
    },
    {
     "cell_type": "markdown",
     "metadata": {},
     "source": [
      "##Slit 10"
     ]
    },
    {
     "cell_type": "code",
     "collapsed": false,
     "input": [
      "comp_back_and_spec_in_middle('../../multispec/2014_06_27_slit10/out_phot5_final2/NW1_3936_combined_img_ext001_back_2.fits', \n",
      "                            '../../multispec/2014_06_27_slit10/out_phot5_final2/NW1_3936_combined_img_ext001_star0003.fits')"
     ],
     "language": "python",
     "metadata": {},
     "outputs": [],
     "prompt_number": 11
    },
    {
     "cell_type": "code",
     "collapsed": false,
     "input": [
      "comp_back_and_spec_in_middle('../../multispec/2014_06_27_slit10/out_final3/NW1_3936_combined_img_ext001_back_2.fits', \n",
      "                            '../../multispec/2014_06_27_slit10/out_final3/NW1_3936_combined_img_ext001_star0003.fits')"
     ],
     "language": "python",
     "metadata": {},
     "outputs": [],
     "prompt_number": 97
    },
    {
     "cell_type": "markdown",
     "metadata": {},
     "source": [
      "##Slit 01"
     ]
    },
    {
     "cell_type": "code",
     "collapsed": false,
     "input": [
      "comp_back_and_spec_in_middle('../../multispec/2014_07_14_slit1/out_final1/SE9_3936_combined_img_ext001_back_2.fits', \n",
      "                            '../../multispec/2014_07_14_slit1/out_final1/SE9_3936_combined_img_ext001_star9900.fits')"
     ],
     "language": "python",
     "metadata": {},
     "outputs": [],
     "prompt_number": 34
    },
    {
     "cell_type": "code",
     "collapsed": false,
     "input": [
      "comp_back_and_spec_in_middle('../../multispec/2014_07_14_slit1/out_final3/SE9_3936_combined_img_ext001_back_2.fits', \n",
      "                            '../../multispec/2014_07_14_slit1/out_final3/SE9_3936_combined_img_ext001_star9900.fits')"
     ],
     "language": "python",
     "metadata": {},
     "outputs": [],
     "prompt_number": 91
    },
    {
     "cell_type": "markdown",
     "metadata": {},
     "source": [
      "##Slit 02"
     ]
    },
    {
     "cell_type": "code",
     "collapsed": false,
     "input": [
      "comp_back_and_spec_in_middle('../../multispec/2014_07_16_slit2/out_final1/SE8_3936_combined_img_ext001_back_2.fits', \n",
      "                            '../../multispec/2014_07_16_slit2/out_final1/SE8_3936_combined_img_ext001_star9900.fits')"
     ],
     "language": "python",
     "metadata": {},
     "outputs": [],
     "prompt_number": 78
    },
    {
     "cell_type": "markdown",
     "metadata": {},
     "source": [
      "#Check Flux"
     ]
    },
    {
     "cell_type": "code",
     "collapsed": false,
     "input": [
      "def comp_back_and_stellar_flux(prefix, out_dir, ylim_max = []):\n",
      "    '''\n",
      "    This plot compares the individual star spectra (top plot), the sum of the spectra of all of the stars (middle plot top), the residuals (middle plot bottom),\n",
      "    and the ratio of the sum of the spectra to the residuals. This is a comparison of the signal you are actually getting to the uncertainty (what is left over)\n",
      "    and characterized the error in your flux.\n",
      "\n",
      "    Input:\n",
      "        prefix - prefix to all files, usually target+cenwave e.g. NW1_3936\n",
      "        out_dir - output directory\n",
      "        ylim_max - a list of maxmimum y limits - one for each plot (4 total)\n",
      "    '''\n",
      "    fig = pyplot.figure(figsize = [15, 15])\n",
      "    ax1 = fig.add_subplot(4, 1, 1)\n",
      "    ax2 = fig.add_subplot(4, 1, 2)\n",
      "    ax3 = fig.add_subplot(4, 1, 3)\n",
      "    ax4 = fig.add_subplot(4, 1, 4)\n",
      "    resid_file = glob.glob(os.path.join(out_dir,prefix+'*res_3.fits'))[0]\n",
      "    resid_img = fits.getdata(resid_file, 1)\n",
      "    collapse_resid = np.sum(np.abs(resid_img[450:650, :]), axis = 0)\n",
      "    all_star_list = glob.glob(os.path.join(out_dir,prefix+'*star*.fits'))\n",
      "    sum_star_spec = fits.getdata(all_star_list[0], 1)['cts']\n",
      "    for ifile in all_star_list[1:]:\n",
      "        istar_tbdata = fits.getdata(ifile, 1)\n",
      "        sum_star_spec += istar_tbdata['cts']\n",
      "        ax1.plot(istar_tbdata['wavelength'], istar_tbdata['cts'])\n",
      "    \n",
      "    \n",
      "    ax2.plot(istar_tbdata['wavelength'], sum_star_spec)\n",
      "    ax3.plot(istar_tbdata['wavelength'], collapse_resid)\n",
      "    ax4.plot(istar_tbdata['wavelength'], sum_star_spec/collapse_resid)\n",
      "    ax1.set_title('Individual Star Spectra')\n",
      "    ax2.set_title('Summed Stellar Spectra')\n",
      "    ax3.set_title('Residual 3 Spectrum y = [450:650]')\n",
      "    ax4.set_title('Sum Stellar Spec / Resid 3 Spec')\n",
      "    \n",
      "    if len(ylim_max) > 1:\n",
      "        ax1.set_ylim(0, ylim_max[0])\n",
      "        ax2.set_ylim(0, ylim_max[1])\n",
      "        ax3.set_ylim(0, ylim_max[2])\n",
      "        ax4.set_ylim(0, ylim_max[3])\n",
      "\n",
      "    ax2.set_ylabel('Counts')\n",
      "    ax4.set_xlabel('Wavelength')\n",
      "    ax1.grid()\n",
      "    ax2.grid()\n",
      "    ax3.grid()\n",
      "    ax4.grid()\n",
      "    pyplot.savefig(resid_file[:-10]+'flux_errors.pdf')\n",
      "    #pyplot.close()"
     ],
     "language": "python",
     "metadata": {},
     "outputs": [],
     "prompt_number": 6
    },
    {
     "cell_type": "markdown",
     "metadata": {},
     "source": [
      "##Slit 10"
     ]
    },
    {
     "cell_type": "code",
     "collapsed": false,
     "input": [
      "comp_back_and_stellar_flux('NW1_3936', '../../multispec/2014_06_27_slit10/out_phot5_final2/')"
     ],
     "language": "python",
     "metadata": {},
     "outputs": [],
     "prompt_number": 21
    },
    {
     "cell_type": "code",
     "collapsed": false,
     "input": [
      "comp_back_and_stellar_flux('NW1_3936', '../../multispec/2014_06_27_slit10/out_final3/')"
     ],
     "language": "python",
     "metadata": {},
     "outputs": [],
     "prompt_number": 96
    },
    {
     "cell_type": "markdown",
     "metadata": {},
     "source": [
      "##Slit 01"
     ]
    },
    {
     "cell_type": "code",
     "collapsed": false,
     "input": [
      "comp_back_and_stellar_flux('SE9_3936', '../../multispec/2014_07_14_slit1/out_final3/', ylim_max = [2000, 4000, 5000, 2])"
     ],
     "language": "python",
     "metadata": {},
     "outputs": [],
     "prompt_number": 86
    },
    {
     "cell_type": "code",
     "collapsed": false,
     "input": [],
     "language": "python",
     "metadata": {},
     "outputs": []
    },
    {
     "cell_type": "markdown",
     "metadata": {},
     "source": [
      "##Slit 02"
     ]
    },
    {
     "cell_type": "code",
     "collapsed": false,
     "input": [
      "comp_back_and_stellar_flux('SE8_3936', '../../multispec/2014_07_16_slit2/out_final1/')"
     ],
     "language": "python",
     "metadata": {},
     "outputs": [],
     "prompt_number": 81
    },
    {
     "cell_type": "markdown",
     "metadata": {},
     "source": [
      "#Analyze XD profiles"
     ]
    },
    {
     "cell_type": "code",
     "collapsed": false,
     "input": [
      "import os\n",
      "from astropy.io import fits, ascii\n",
      "import numpy as np\n",
      "from matplotlib import pyplot\n",
      "import subprocess\n"
     ],
     "language": "python",
     "metadata": {},
     "outputs": [],
     "prompt_number": 7
    },
    {
     "cell_type": "code",
     "collapsed": false,
     "input": [
      "def collapse_spectrum(filename):\n",
      "    '''\n",
      "    find average of image over x = 502 - 522 (20 pixels at center of image) to get XD profile\n",
      "    input:\n",
      "        filename - name of image file to be plotted\n",
      "    output:\n",
      "        average_spec - XD profile\n",
      "    '''\n",
      "    img = fits.getdata(filename, 1)\n",
      "    average_spec = np.sum(img[:,502:522], axis = 1, dtype = np.float64)/20.\n",
      "    return average_spec"
     ],
     "language": "python",
     "metadata": {},
     "outputs": [],
     "prompt_number": 8
    },
    {
     "cell_type": "code",
     "collapsed": false,
     "input": [
      "def read_star_locations(directory, phot_file):\n",
      "    '''\n",
      "    Read the initial locations of the stars out of the _phot file\n",
      "    input:\n",
      "        directory - directory where the phot_file lives\n",
      "        phot_file - name of the phot_file\n",
      "    output:\n",
      "        ids - list of star ID numbers\n",
      "        positions - XD location of stars\n",
      "    '''\n",
      "    tbdata = ascii.read(os.path.join(directory, phot_file))\n",
      "    positions = tbdata['y']\n",
      "    ids = tbdata['ID']\n",
      "    return ids, positions"
     ],
     "language": "python",
     "metadata": {},
     "outputs": [],
     "prompt_number": 9
    },
    {
     "cell_type": "code",
     "collapsed": false,
     "input": [
      "def make_diagnostic_plot(directory, phot_file, synth_file, original_file, back_file, resid_file):\n",
      "    '''\n",
      "    Plot the XD profile of the input data, the final synth file, the final back file, and the final\n",
      "    residual file. Over plot the input location of each star from the _phot file\n",
      "\n",
      "    Input:\n",
      "        directory - directory of the phot_file\n",
      "        phot_file - name of phot_file\n",
      "        synth_file - name of _synt_1 file\n",
      "        original_file - name of the cropped FLT file (assumed to be in ../../multispec/ccd_multispec/cropped_images)\n",
      "        back_file - name of background file\n",
      "        resid_file - name of residual file\n",
      "    Output:\n",
      "        A plot in output directory called *xd_profile.pdf where * is the target+cenwave prefix\n",
      "    '''\n",
      "    star_ids, star_locations = read_star_locations(directory, phot_file)\n",
      "    data = collapse_spectrum('../../multispec/ccd_multispec/cropped_images/{}'.format(original_file))\n",
      "    synth = collapse_spectrum(synth_file)\n",
      "    back = collapse_spectrum(back_file)\n",
      "    resid = collapse_spectrum(resid_file)\n",
      "    x = np.arange(1024)\n",
      "    fig = pyplot.figure(figsize = [25, 10])\n",
      "    ax = fig.add_subplot(1,1,1)\n",
      "    ax.plot(x, data, 'ro', ls = '-', label = 'Data')\n",
      "    ax.plot(x, synth, 'b', label = 'Model (synt)')\n",
      "    ax.plot(x, back, 'g', label = 'Background')\n",
      "    ax.plot(x, resid, 'c', label = 'Residual')\n",
      "    lower_lim = ax.get_ylim()\n",
      "    for ids, loc in zip(star_ids, star_locations):\n",
      "        ax.axvline(loc, color = 'y', ls = '--')\n",
      "        ax.text(loc, lower_lim[0], ids)\n",
      "    ax.plot(star_locations, np.ones((len(star_locations),)), 'k*', label = 'Profile Center', markersize = 10)\n",
      "\n",
      "    ax.legend(loc = 'best')\n",
      "    ax.set_xlim(400, 600)\n",
      "    ax.grid()\n",
      "    ax.set_title('Cross Dispersion profile for {} 3936 around cluster core'.format(phot_file.split('_')[0]))"
     ],
     "language": "python",
     "metadata": {},
     "outputs": [],
     "prompt_number": 12
    },
    {
     "cell_type": "markdown",
     "metadata": {},
     "source": [
      "##Slit 01"
     ]
    },
    {
     "cell_type": "code",
     "collapsed": false,
     "input": [
      "make_diagnostic_plot('../../multispec/2014_07_14_slit1/', \n",
      "                     'slit01_3936_phot4.dat', \n",
      "                     '../../multispec/2014_07_14_slit1/out_final1/SE9_3936_combined_img_ext001_synt_3.fits',\n",
      "                     'SE9_3936_combined_img.fits',\n",
      "                     '../../multispec/2014_07_14_slit1/out_final1/SE9_3936_combined_img_ext001_back_2.fits',\n",
      "                     '../../multispec/2014_07_14_slit1/out_final1/SE9_3936_combined_img_ext001_res_3.fits')\n",
      "pyplot.savefig('../../multispec/2014_07_14_slit1/out_final1/SE9_3936_final1_xd_profile.pdf')"
     ],
     "language": "python",
     "metadata": {},
     "outputs": [],
     "prompt_number": 68
    },
    {
     "cell_type": "code",
     "collapsed": false,
     "input": [
      "make_diagnostic_plot('../../multispec/2014_07_14_slit1/', \n",
      "                     'slit01_3936_phot7.dat', \n",
      "                     '../../multispec/2014_07_14_slit1/out_final3/SE9_3936_combined_img_ext001_synt_3.fits',\n",
      "                     'SE9_3936_combined_img.fits',\n",
      "                     '../../multispec/2014_07_14_slit1/out_final3/SE9_3936_combined_img_ext001_back_2.fits',\n",
      "                     '../../multispec/2014_07_14_slit1/out_final3/SE9_3936_combined_img_ext001_res_3.fits')\n",
      "pyplot.savefig('../../multispec/2014_07_14_slit1/out_final3/SE9_3936_final1_xd_profile.pdf')"
     ],
     "language": "python",
     "metadata": {},
     "outputs": [],
     "prompt_number": 87
    },
    {
     "cell_type": "code",
     "collapsed": false,
     "input": [
      "make_diagnostic_plot('../../multispec/2014_07_14_slit1/', \n",
      "                     'slit01_3936_phot7.dat', \n",
      "                     '../../multispec/2014_07_14_slit1/out_final4_test_gauss_psf/SE9_3936_combined_img_ext001_synt_3.fits',\n",
      "                     'SE9_3936_combined_img.fits',\n",
      "                     '../../multispec/2014_07_14_slit1/out_final4_test_gauss_psf/SE9_3936_combined_img_ext001_back_2.fits',\n",
      "                     '../../multispec/2014_07_14_slit1/out_final4_test_gauss_psf/SE9_3936_combined_img_ext001_res_3.fits')\n",
      "pyplot.savefig('../../multispec/2014_07_14_slit1/out_final4_test_gauss_psf/SE9_3936_final1_xd_profile.pdf')"
     ],
     "language": "python",
     "metadata": {},
     "outputs": [],
     "prompt_number": 15
    },
    {
     "cell_type": "markdown",
     "metadata": {},
     "source": [
      "##Slit 2"
     ]
    },
    {
     "cell_type": "code",
     "collapsed": false,
     "input": [
      "make_diagnostic_plot('../../multispec/2014_07_16_slit2/', \n",
      "                     'slit02_3936_phot3.dat', \n",
      "                     '../../multispec/2014_07_16_slit2/out_final1/SE8_3936_combined_img_ext001_synt_3.fits',\n",
      "                     'SE8_3936_combined_img.fits',\n",
      "                     '../../multispec/2014_07_16_slit2/out_final1/SE8_3936_combined_img_ext001_back_2.fits',\n",
      "                     '../../multispec/2014_07_16_slit2/out_final1/SE8_3936_combined_img_ext001_res_3.fits')\n",
      "pyplot.savefig('../../multispec/2014_07_16_slit2/out_final1/SE8_3936_final1_xd_profile.pdf')"
     ],
     "language": "python",
     "metadata": {},
     "outputs": [],
     "prompt_number": 82
    },
    {
     "cell_type": "markdown",
     "metadata": {},
     "source": [
      "##Slit 10"
     ]
    },
    {
     "cell_type": "code",
     "collapsed": false,
     "input": [
      "make_diagnostic_plot('../../multispec/2014_06_27_slit10/', \n",
      "                     'slit10_3936_phot5.dat', \n",
      "                     '../../multispec/2014_06_27_slit10/out_phot5_final2/NW1_3936_combined_img_ext001_synt_3.fits',\n",
      "                     'NW1_3936_combined_img.fits',\n",
      "                     '../../multispec/2014_06_27_slit10/out_phot5_final2/NW1_3936_combined_img_ext001_back_2.fits',\n",
      "                     '../../multispec/2014_06_27_slit10/out_phot5_final2/NW1_3936_combined_img_ext001_res_3.fits')\n",
      "pyplot.savefig('../../multispec/2014_06_27_slit10/out_phot5_final2/NW1_3936_final1_xd_profile.pdf')"
     ],
     "language": "python",
     "metadata": {},
     "outputs": [],
     "prompt_number": 52
    },
    {
     "cell_type": "code",
     "collapsed": false,
     "input": [
      "make_diagnostic_plot('../../multispec/2014_06_27_slit10/', \n",
      "                     'slit10_3936_phot5.dat', \n",
      "                     '../../multispec/2014_06_27_slit10/out_final3/NW1_3936_combined_img_ext001_synt_3.fits',\n",
      "                     'NW1_3936_combined_img.fits',\n",
      "                     '../../multispec/2014_06_27_slit10/out_final3/NW1_3936_combined_img_ext001_back_2.fits',\n",
      "                     '../../multispec/2014_06_27_slit10/out_final3/NW1_3936_combined_img_ext001_res_3.fits')\n",
      "pyplot.savefig('../../multispec/2014_06_27_slit10/out_final3/NW1_3936_final1_xd_profile.pdf')"
     ],
     "language": "python",
     "metadata": {},
     "outputs": [],
     "prompt_number": 14
    },
    {
     "cell_type": "code",
     "collapsed": false,
     "input": [
      "cd /Users/bostroem/R136/programs/multispec_analysis"
     ],
     "language": "python",
     "metadata": {},
     "outputs": [
      {
       "output_type": "stream",
       "stream": "stdout",
       "text": [
        "/Users/bostroem/R136/programs/multispec_analysis\n"
       ]
      }
     ],
     "prompt_number": 55
    },
    {
     "cell_type": "code",
     "collapsed": false,
     "input": [],
     "language": "python",
     "metadata": {},
     "outputs": []
    }
   ],
   "metadata": {}
  }
 ]
}