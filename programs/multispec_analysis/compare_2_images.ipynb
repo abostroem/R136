{
 "metadata": {
  "name": "compare_2_images"
 },
 "nbformat": 3,
 "nbformat_minor": 0,
 "worksheets": [
  {
   "cells": [
    {
     "cell_type": "code",
     "collapsed": false,
     "input": [
      "from astropy.io import fits\n",
      "from matplotlib import pyplot"
     ],
     "language": "python",
     "metadata": {},
     "outputs": [],
     "prompt_number": 2
    },
    {
     "cell_type": "code",
     "collapsed": false,
     "input": [
      "def subtract_2_files(file1, file2):\n",
      "    img1 = fits.getdata(file1, 1)\n",
      "    img2 = fits.getdata(file2, 1)\n",
      "    fig = pyplot.figure()\n",
      "    ax = fig.add_subplot(1,1,1)\n",
      "    print np.max(img1 - img2), np.min(img1 - img2)\n",
      "    img = ax.imshow(img2-img1, interpolation = 'none', cmap = 'bone')\n",
      "    return img, ax"
     ],
     "language": "python",
     "metadata": {},
     "outputs": [],
     "prompt_number": 38
    },
    {
     "cell_type": "code",
     "collapsed": false,
     "input": [
      "img, ax = subtract_2_files('../../multispec/grid_test_slit10/20140626_crback_2_ncelly_1/NW1_3936_combined_img_ext001_back_2.fits', \n",
      "'../../multispec/grid_test_slit10/20140626_crback_7_ncelly_6/NW1_3936_combined_img_ext001_back_2.fits')\n",
      "img.set_clim(0, 1)\n",
      "ax.set_title('Change CRBACK from 1 to 7, NCELLY from 1 to 6')"
     ],
     "language": "python",
     "metadata": {},
     "outputs": [
      {
       "output_type": "stream",
       "stream": "stdout",
       "text": [
        "0.0 -12.0142\n"
       ]
      },
      {
       "output_type": "pyout",
       "prompt_number": 40,
       "text": [
        "<matplotlib.text.Text at 0x10f6bb350>"
       ]
      }
     ],
     "prompt_number": 40
    },
    {
     "cell_type": "code",
     "collapsed": false,
     "input": [
      "img, ax = subtract_2_files('../../multispec/grid_test_slit10/20140626_crback_2_ncelly_1/NW1_3936_combined_img_ext001_back_2.fits', \n",
      "'../../multispec/grid_test_slit10/20140626_crback_6_ncelly_1/NW1_3936_combined_img_ext001_back_2.fits')\n",
      "img.set_clim(0, 1)\n",
      "ax.set_title('Change CRBACK from 2 to 6, NCELLY = 1')"
     ],
     "language": "python",
     "metadata": {},
     "outputs": [
      {
       "output_type": "stream",
       "stream": "stdout",
       "text": [
        "0.0 0.0\n"
       ]
      },
      {
       "output_type": "pyout",
       "prompt_number": 41,
       "text": [
        "<matplotlib.text.Text at 0x10e7de610>"
       ]
      }
     ],
     "prompt_number": 41
    },
    {
     "cell_type": "code",
     "collapsed": false,
     "input": [
      "img, ax = subtract_2_files('../../multispec/grid_test_slit10/20140626_crback_7_ncelly_1/NW1_3936_combined_img_ext001_back_2.fits', \n",
      "'../../multispec/grid_test_slit10/20140626_crback_7_ncelly_6/NW1_3936_combined_img_ext001_back_2.fits')\n",
      "img.set_clim()\n",
      "ax.set_title('Change NCELLY from 1 to 6, CRBACK = 7')"
     ],
     "language": "python",
     "metadata": {},
     "outputs": [
      {
       "output_type": "stream",
       "stream": "stdout",
       "text": [
        "0.0 -12.0142\n"
       ]
      },
      {
       "output_type": "pyout",
       "prompt_number": 42,
       "text": [
        "<matplotlib.text.Text at 0x109ff4490>"
       ]
      }
     ],
     "prompt_number": 42
    },
    {
     "cell_type": "code",
     "collapsed": false,
     "input": [
      "img, ax = subtract_2_files('../../multispec/grid_test_slit10/20140626_crback_9_ncelly_1/NW1_3936_combined_img_ext001_back_2.fits', \n",
      "'../../multispec/grid_test_slit10/20140626_crback_9_ncelly_8/NW1_3936_combined_img_ext001_back_2.fits')\n",
      "img.set_clim()\n",
      "ax.set_title('Change NCELLY from 1 to 8, CRBACK = 9')"
     ],
     "language": "python",
     "metadata": {},
     "outputs": [
      {
       "output_type": "stream",
       "stream": "stdout",
       "text": [
        "0.0 -11.0994\n"
       ]
      },
      {
       "output_type": "pyout",
       "prompt_number": 43,
       "text": [
        "<matplotlib.text.Text at 0x109ffb910>"
       ]
      }
     ],
     "prompt_number": 43
    },
    {
     "cell_type": "code",
     "collapsed": false,
     "input": [
      "img, ax = subtract_2_files('../../multispec/grid_test_slit10/20140626_crback_5_ncelly_4/NW1_3936_combined_img_ext001_back_2.fits', \n",
      "'../../multispec/grid_test_slit10/20140626_crback_9_ncelly_4/NW1_3936_combined_img_ext001_back_2.fits')\n",
      "img.set_clim(0, 1)\n",
      "ax.set_title('Change CRBACK from 5 to 9, NCELLY = 4')"
     ],
     "language": "python",
     "metadata": {},
     "outputs": [
      {
       "output_type": "stream",
       "stream": "stdout",
       "text": [
        "55.0923 -1.19219\n"
       ]
      },
      {
       "output_type": "pyout",
       "prompt_number": 44,
       "text": [
        "<matplotlib.text.Text at 0x10e7d82d0>"
       ]
      }
     ],
     "prompt_number": 44
    },
    {
     "cell_type": "code",
     "collapsed": false,
     "input": [
      "def display_2_files(file1, file2):\n",
      "    img1 = fits.getdata(file1, 1)\n",
      "    img2 = fits.getdata(file2, 1)\n",
      "    fig = pyplot.figure()\n",
      "    ax1 = fig.add_subplot(1,2,1)\n",
      "    ax2 = fig.add_subplot(1, 2, 2)\n",
      "    im1 = ax1.imshow(img1, interpolation = 'none', cmap = 'bone')\n",
      "    im2 = ax2.imshow(img2, interpolation = 'none', cmap = 'bone')\n",
      "    clim1 = im1.get_clim()\n",
      "    im1.set_clim(0, clim1[1])\n",
      "    clim2 = im2.get_clim()\n",
      "    im2.set_clim(0, clim2[1])\n",
      "    return ax1, ax2, im1, im2"
     ],
     "language": "python",
     "metadata": {},
     "outputs": [],
     "prompt_number": 59
    },
    {
     "cell_type": "code",
     "collapsed": false,
     "input": [
      "ax1, ax2, im1, im2= display_2_files('../../multispec/grid_test_slit10/20140626_crback_5_ncelly_4/NW1_3936_combined_img_ext001_back_2.fits', \n",
      "'../../multispec/grid_test_slit10/20140626_crback_9_ncelly_4/NW1_3936_combined_img_ext001_back_2.fits')\n",
      "ax1.set_title('CRBACK = 5, NCELLY = 4')\n",
      "ax2.set_title('CRBACK = 9, NCELLY = 4')"
     ],
     "language": "python",
     "metadata": {},
     "outputs": [
      {
       "output_type": "pyout",
       "prompt_number": 60,
       "text": [
        "<matplotlib.text.Text at 0x108b42990>"
       ]
      }
     ],
     "prompt_number": 60
    },
    {
     "cell_type": "code",
     "collapsed": false,
     "input": [
      "ax1, ax2, im1, im2= display_2_files('../../multispec/grid_test_slit10/20140626_crback_2_ncelly_1/NW1_3936_combined_img_ext001_back_2.fits', \n",
      "'../../multispec/grid_test_slit10/20140626_crback_6_ncelly_1/NW1_3936_combined_img_ext001_back_2.fits')\n",
      "ax1.set_title('CRBACK = 2, NCELLY = 1')\n",
      "ax2.set_title('CRBACK = 6, NCELLY = 1')"
     ],
     "language": "python",
     "metadata": {},
     "outputs": [
      {
       "output_type": "pyout",
       "prompt_number": 61,
       "text": [
        "<matplotlib.text.Text at 0x10606c8d0>"
       ]
      }
     ],
     "prompt_number": 61
    },
    {
     "cell_type": "code",
     "collapsed": false,
     "input": [
      "ax1, ax2, im1, im2= display_2_files('../../multispec/grid_test_slit10/20140626_crback_7_ncelly_1/NW1_3936_combined_img_ext001_back_2.fits', \n",
      "'../../multispec/grid_test_slit10/20140626_crback_7_ncelly_6/NW1_3936_combined_img_ext001_back_2.fits')\n",
      "ax1.set_title('CRBACK = 7, NCELLY = 1')\n",
      "ax2.set_title('CRBACK = 7, NCELLY = 6')"
     ],
     "language": "python",
     "metadata": {},
     "outputs": [
      {
       "output_type": "pyout",
       "prompt_number": 62,
       "text": [
        "<matplotlib.text.Text at 0x10e243090>"
       ]
      }
     ],
     "prompt_number": 62
    },
    {
     "cell_type": "code",
     "collapsed": false,
     "input": [
      "im2.get_clim()"
     ],
     "language": "python",
     "metadata": {},
     "outputs": [
      {
       "output_type": "pyout",
       "prompt_number": 54,
       "text": [
        "(-55.092285, 1.1921948)"
       ]
      }
     ],
     "prompt_number": 54
    },
    {
     "cell_type": "code",
     "collapsed": false,
     "input": [
      "im2.set_clim(0, 1.19)"
     ],
     "language": "python",
     "metadata": {},
     "outputs": [],
     "prompt_number": 55
    },
    {
     "cell_type": "code",
     "collapsed": false,
     "input": [],
     "language": "python",
     "metadata": {},
     "outputs": []
    }
   ],
   "metadata": {}
  }
 ]
}