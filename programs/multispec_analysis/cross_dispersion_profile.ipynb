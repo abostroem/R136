{
 "metadata": {
  "name": "cross_dispersion_profile"
 },
 "nbformat": 3,
 "nbformat_minor": 0,
 "worksheets": [
  {
   "cells": [
    {
     "cell_type": "code",
     "collapsed": false,
     "input": [
      "import os\n",
      "from astropy.io import fits, ascii\n",
      "import numpy as np\n",
      "from matplotlib import pyplot\n",
      "import subprocess\n"
     ],
     "language": "python",
     "metadata": {},
     "outputs": [],
     "prompt_number": 38
    },
    {
     "cell_type": "code",
     "collapsed": false,
     "input": [
      "def collapse_spectrum(filename):\n",
      "    '''\n",
      "    find average of image over x = 502 - 522 (20 pixels at center of image) to get XD profile\n",
      "    input:\n",
      "        filename - name of image file to be plotted\n",
      "    output:\n",
      "        average_spec - XD profile\n",
      "    '''\n",
      "    img = fits.getdata(filename, 1)\n",
      "    average_spec = np.sum(img[:,502:522], axis = 1, dtype = np.float64)/20.\n",
      "    return average_spec"
     ],
     "language": "python",
     "metadata": {},
     "outputs": [],
     "prompt_number": 39
    },
    {
     "cell_type": "code",
     "collapsed": false,
     "input": [
      "def read_star_locations(directory, phot_file):\n",
      "    '''\n",
      "    Read the initial locations of the stars out of the _phot file\n",
      "    input:\n",
      "        directory - directory where the phot_file lives\n",
      "        phot_file - name of the phot_file\n",
      "    output:\n",
      "        ids - list of star ID numbers\n",
      "        positions - XD location of stars\n",
      "    '''\n",
      "    tbdata = ascii.read(os.path.join(directory, phot_file))\n",
      "    positions = tbdata['y']\n",
      "    ids = tbdata['ID']\n",
      "    return ids, positions"
     ],
     "language": "python",
     "metadata": {},
     "outputs": [],
     "prompt_number": 40
    },
    {
     "cell_type": "code",
     "collapsed": false,
     "input": [
      "def make_diagnostic_plot(directory, phot_file, synth_file, original_file):\n",
      "    '''\n",
      "    create XD plot of initial data and first synth file (model based directly on values in _phot file).\n",
      "    The model and data should line up. If they don't, adjust values in _phot file and rerun multispec.\n",
      "    This code requires that you run multispec once to get the _synt_1 file.\n",
      "    Input:\n",
      "        directory - directory of the phot_file\n",
      "        phot_file - name of phot_file\n",
      "        synth_file - name of _synt_1 file\n",
      "        original_file - name of the cropped FLT file (assumed to be in ../../multispec/ccd_multispec/cropped_images)\n",
      "    Output:\n",
      "        A plot in same directory as phot_file called phot?_xd_profile.pdf where ? is the number of the phot file\n",
      "    '''\n",
      "    star_ids, star_locations = read_star_locations(directory, phot_file)\n",
      "    data = collapse_spectrum('../../multispec/ccd_multispec/cropped_images/{}'.format(original_file))\n",
      "    synth = collapse_spectrum(synth_file)\n",
      "    x = np.arange(1024)\n",
      "    fig = pyplot.figure(figsize = [25, 10])\n",
      "    ax = fig.add_subplot(1,1,1)\n",
      "    ax.plot(x, data, 'ro', ls = '-', label = 'Data')\n",
      "    ax.plot(x, synth, 'b', label = 'Model (synt)')\n",
      "    lower_lim = ax.get_ylim()\n",
      "    for ids, loc in zip(star_ids, star_locations):\n",
      "        ax.axvline(loc, color = 'y', ls = '--')\n",
      "        ax.text(loc, lower_lim[0], ids)\n",
      "    ax.plot(star_locations, np.ones((len(star_locations),)), 'k*', label = 'Profile Center', markersize = 10)\n",
      "\n",
      "    ax.legend(loc = 'best')\n",
      "    ax.set_xlim(400, 600)\n",
      "    ax.grid()\n",
      "    ax.set_title('Cross Dispersion profile for {} 3936 around cluster core'.format(phot_file.split('_')[0]))\n",
      "    \n",
      "    "
     ],
     "language": "python",
     "metadata": {},
     "outputs": [],
     "prompt_number": 41
    },
    {
     "cell_type": "code",
     "collapsed": false,
     "input": [],
     "language": "python",
     "metadata": {},
     "outputs": []
    },
    {
     "cell_type": "markdown",
     "metadata": {},
     "source": [
      "#Slit 10"
     ]
    },
    {
     "cell_type": "code",
     "collapsed": false,
     "input": [
      "make_diagnostic_plot('../..//multispec/2014_06_26_DM_phot_ncelly_8', \n",
      "                    'slit10_3936_phot2.dat', \n",
      "                    '../../multispec/2014_06_26_DM_phot_ncelly_8/out/NW1_3936_combined_img_ext001_synt_1.fits', \n",
      "                    'NW1_3936_combined_img.fits')"
     ],
     "language": "python",
     "metadata": {},
     "outputs": [],
     "prompt_number": 6
    },
    {
     "cell_type": "markdown",
     "metadata": {},
     "source": [
      "###Initial run (phot2)"
     ]
    },
    {
     "cell_type": "code",
     "collapsed": false,
     "input": [
      "photnum = 2\n",
      "make_diagnostic_plot('../../multispec/2014_06_27_manual_phot_fix_y_loc/', \n",
      "'slit10_3936_phot{}.dat'.format(photnum), \n",
      "'../../multispec/2014_06_27_manual_phot_fix_y_loc/out_phot{}/NW1_3936_combined_img_ext001_synt_1.fits'.format(photnum), \n",
      "'NW1_3936_combined_img.fits')\n",
      "pyplot.savefig('../../multispec/2014_06_27_manual_phot_fix_y_loc/phot{}_xd_profile.pdf'.format(photnum))"
     ],
     "language": "python",
     "metadata": {},
     "outputs": [],
     "prompt_number": 28
    },
    {
     "cell_type": "markdown",
     "metadata": {},
     "source": [
      "###Next run (phot3)\n",
      "\n",
      "* Run Multispec first"
     ]
    },
    {
     "cell_type": "code",
     "collapsed": false,
     "input": [
      "photnum = 3\n",
      "make_diagnostic_plot('../../multispec/2014_06_27_manual_phot_fix_y_loc/', \n",
      "'slit10_3936_phot{}.dat'.format(photnum), \n",
      "'../../multispec/2014_06_27_manual_phot_fix_y_loc/out_phot{}/NW1_3936_combined_img_ext001_synt_1.fits'.format(photnum), \n",
      "'NW1_3936_combined_img.fits')\n",
      "pyplot.savefig('../../multispec/2014_06_27_manual_phot_fix_y_loc/phot{}_xd_profile.pdf'.format(photnum))"
     ],
     "language": "python",
     "metadata": {},
     "outputs": [],
     "prompt_number": 22
    },
    {
     "cell_type": "markdown",
     "metadata": {},
     "source": [
      "###Next run (phot4)\n",
      "\n",
      "* revert #3 to phot2 loc and a little fainter\n",
      "* revert #9000 to phot2 loc and a little fainter\n",
      "* move #9003 from 527 to 526, revert to phot2 brightness\n",
      "* try moving #9002 from 485 to 484. not sure what is going on here. The data and synt1 match but the location from the file don't. If this works I will try it for the other edge stars\n",
      "\n",
      "\n",
      "* Run Multispec first"
     ]
    },
    {
     "cell_type": "code",
     "collapsed": false,
     "input": [
      "photnum = 4\n",
      "make_diagnostic_plot('../../multispec/2014_06_27_manual_phot_fix_y_loc/', \n",
      "'slit10_3936_phot{}.dat'.format(photnum), \n",
      "'../../multispec/2014_06_27_manual_phot_fix_y_loc/out_phot{}/NW1_3936_combined_img_ext001_synt_1.fits'.format(photnum), \n",
      "'NW1_3936_combined_img.fits')\n",
      "pyplot.savefig('../../multispec/2014_06_27_manual_phot_fix_y_loc/phot{}_xd_profile.pdf'.format(photnum))"
     ],
     "language": "python",
     "metadata": {},
     "outputs": [],
     "prompt_number": 23
    },
    {
     "cell_type": "markdown",
     "metadata": {},
     "source": [
      "###Next run (phot5)\n",
      "\n",
      "* things are lining up well in data, I will align everything with data, then figure out how to translate this into the model \n",
      "* remove 959 - I don't see anything in the XD profile\n",
      "* move \\#267 from 472.72 -> 470.5\n",
      "* move \\# 217 from 501.3 -> 501\n",
      "* move \\# 9001 from 541.0 -> 540\n",
      "\n",
      "* Run Multispec first"
     ]
    },
    {
     "cell_type": "code",
     "collapsed": false,
     "input": [
      "photnum = 5\n",
      "make_diagnostic_plot('../../multispec/2014_06_27_slit10/', \n",
      "'slit10_3936_phot{}.dat'.format(photnum), \n",
      "'../../multispec/2014_06_27_slit10/out_phot{}/NW1_3936_combined_img_ext001_synt_1.fits'.format(photnum), \n",
      "'NW1_3936_combined_img.fits')\n",
      "pyplot.savefig('../../multispec/2014_06_27_slit10/phot{}_xd_profile.pdf'.format(photnum))"
     ],
     "language": "python",
     "metadata": {},
     "outputs": [],
     "prompt_number": 61
    },
    {
     "cell_type": "code",
     "collapsed": false,
     "input": [
      "photnum = 6\n",
      "make_diagnostic_plot('../../multispec/2014_06_27_slit10/', \n",
      "'slit10_3936_phot{}.dat'.format(photnum), \n",
      "'../../multispec/2014_06_27_slit10/out_phot{}/NW1_3936_combined_img_ext001_synt_1.fits'.format(photnum), \n",
      "'NW1_3936_combined_img.fits')\n",
      "pyplot.savefig('../../multispec/2014_06_27_slit10/phot{}_xd_profile.pdf'.format(photnum))"
     ],
     "language": "python",
     "metadata": {},
     "outputs": [],
     "prompt_number": 64
    },
    {
     "cell_type": "code",
     "collapsed": false,
     "input": [
      "photnum = 7\n",
      "make_diagnostic_plot('../../multispec/2014_06_27_slit10/', \n",
      "'slit10_3936_phot{}.dat'.format(photnum), \n",
      "'../../multispec/2014_06_27_slit10/out_phot{}/NW1_3936_combined_img_ext001_synt_1.fits'.format(photnum), \n",
      "'NW1_3936_combined_img.fits')\n",
      "pyplot.savefig('../../multispec/2014_06_27_slit10/phot{}_xd_profile.pdf'.format(photnum))"
     ],
     "language": "python",
     "metadata": {},
     "outputs": [],
     "prompt_number": 65
    },
    {
     "cell_type": "code",
     "collapsed": false,
     "input": [
      "photnum = 8\n",
      "make_diagnostic_plot('../../multispec/2014_06_27_slit10/', \n",
      "'slit10_3936_phot{}.dat'.format(photnum), \n",
      "'../../multispec/2014_06_27_slit10/out_phot{}/NW1_3936_combined_img_ext001_synt_1.fits'.format(photnum), \n",
      "'NW1_3936_combined_img.fits')\n",
      "pyplot.savefig('../../multispec/2014_06_27_slit10/phot{}_xd_profile.pdf'.format(photnum))"
     ],
     "language": "python",
     "metadata": {},
     "outputs": [],
     "prompt_number": 66
    },
    {
     "cell_type": "code",
     "collapsed": false,
     "input": [
      "photnum = 9\n",
      "make_diagnostic_plot('../../multispec/2014_06_27_slit10/', \n",
      "'slit10_3936_phot{}.dat'.format(photnum), \n",
      "'../../multispec/2014_06_27_slit10/out_phot{}/NW1_3936_combined_img_ext001_synt_1.fits'.format(photnum), \n",
      "'NW1_3936_combined_img.fits')\n",
      "pyplot.savefig('../../multispec/2014_06_27_slit10/phot{}_xd_profile.pdf'.format(photnum))"
     ],
     "language": "python",
     "metadata": {},
     "outputs": [],
     "prompt_number": 67
    },
    {
     "cell_type": "code",
     "collapsed": false,
     "input": [
      "photnum = 10\n",
      "make_diagnostic_plot('../../multispec/2014_06_27_slit10/', \n",
      "'slit10_3936_phot{}.dat'.format(photnum), \n",
      "'../../multispec/2014_06_27_slit10/out_phot{}/NW1_3936_combined_img_ext001_synt_1.fits'.format(photnum), \n",
      "'NW1_3936_combined_img.fits')\n",
      "pyplot.savefig('../../multispec/2014_06_27_slit10/phot{}_xd_profile.pdf'.format(photnum))"
     ],
     "language": "python",
     "metadata": {},
     "outputs": [],
     "prompt_number": 68
    },
    {
     "cell_type": "code",
     "collapsed": false,
     "input": [
      "photnum = 11\n",
      "make_diagnostic_plot('../../multispec/2014_06_27_slit10/', \n",
      "'slit10_3936_phot{}.dat'.format(photnum), \n",
      "'../../multispec/2014_06_27_slit10/out_phot{}/NW1_3936_combined_img_ext001_synt_1.fits'.format(photnum), \n",
      "'NW1_3936_combined_img.fits')\n",
      "pyplot.savefig('../../multispec/2014_06_27_slit10/phot{}_xd_profile.pdf'.format(photnum))"
     ],
     "language": "python",
     "metadata": {},
     "outputs": [],
     "prompt_number": 69
    },
    {
     "cell_type": "markdown",
     "metadata": {},
     "source": [
      "### Done with defining XD locations\n",
      "photnum = 5 looks good, moving on"
     ]
    },
    {
     "cell_type": "markdown",
     "metadata": {},
     "source": [
      "##Define NCELLY\n",
      " * Based on XD profile from phot5.dat file, there is a region just before 420-460 and just after 620 - 650 where there is a decent size region of pure background. \n",
      "* define NCELLY = 1024/(620 - 460) = 1024/160. = 6.4, but needs to be evenly divisible into 1024, so NCELLY = 6"
     ]
    },
    {
     "cell_type": "code",
     "collapsed": false,
     "input": [
      "1024/160."
     ],
     "language": "python",
     "metadata": {},
     "outputs": [
      {
       "output_type": "pyout",
       "prompt_number": 44,
       "text": [
        "6.4"
       ]
      }
     ],
     "prompt_number": 44
    },
    {
     "cell_type": "code",
     "collapsed": false,
     "input": [
      "1024/6"
     ],
     "language": "python",
     "metadata": {},
     "outputs": [
      {
       "output_type": "pyout",
       "prompt_number": 45,
       "text": [
        "170"
       ]
      }
     ],
     "prompt_number": 45
    },
    {
     "cell_type": "markdown",
     "metadata": {},
     "source": [
      "##NCELLY = 6"
     ]
    },
    {
     "cell_type": "markdown",
     "metadata": {},
     "source": [
      "##Define CRBACK\n",
      "\n",
      " * CRBACK must be defined such that each 170 pixel wide cell has 20-30 good points\n",
      " * Find a background region, take 320 - 380\n",
      " * Make a histogram of this region (number of pixels w/ a given value"
     ]
    },
    {
     "cell_type": "code",
     "collapsed": false,
     "input": [
      "def calc_crback(orig_filename, outfile):\n",
      "    data = collapse_spectrum(orig_filename)\n",
      "    pyplot.figure()\n",
      "    num, values = np.histogram(data[320:380])\n",
      "    cdf = [num[0]]\n",
      "    for indx, val in enumerate(num[1:]):\n",
      "        cdf.append(cdf[indx] + num[indx+1])\n",
      "    cdf = np.array(cdf)\n",
      "    pyplot.plot(values[:-1], cdf, 'o')\n",
      "    pyplot.xlabel('Background value')\n",
      "    pyplot.ylabel('Cummulative number of pixels')\n",
      "    pyplot.axhline(30)\n",
      "    less_than_30_indx = np.where(cdf < 30)[0]\n",
      "    pyplot.axvline(values[less_than_30_indx[-1]])\n",
      "    print values[less_than_30_indx[-1]]\n",
      "    pyplot.title('Value which at least 30 pixels have a lower value')\n",
      "    pyplot.savefig(outfile)\n"
     ],
     "language": "python",
     "metadata": {},
     "outputs": [],
     "prompt_number": 33
    },
    {
     "cell_type": "code",
     "collapsed": false,
     "input": [
      "calc_crback('../../multispec/ccd_multispec/cropped_images/NW1_3936_combined_img.fits', \n",
      "            '../../multispec/2014_06_27_manual_phot_fix_y_loc/slit10_crback_determination.pdf')"
     ],
     "language": "python",
     "metadata": {},
     "outputs": [
      {
       "output_type": "stream",
       "stream": "stdout",
       "text": [
        "-6.12900091633\n"
       ]
      }
     ],
     "prompt_number": 35
    },
    {
     "cell_type": "markdown",
     "metadata": {},
     "source": [
      "##CRBACK = -6"
     ]
    },
    {
     "cell_type": "code",
     "collapsed": false,
     "input": [
      "Tried the following combinations and each time got error that not enough background points were found to calculate \n",
      "\n",
      "* NCELLY = 6, CRBACK = -6\n",
      "* NCELLY = 6, CRBACK = 0\n",
      "* NCELLY = 5, CRBACK = 0\n",
      "* NCELLY = 5, CRBACK = 5"
     ],
     "language": "python",
     "metadata": {},
     "outputs": []
    },
    {
     "cell_type": "markdown",
     "metadata": {},
     "source": [
      "----------"
     ]
    },
    {
     "cell_type": "markdown",
     "metadata": {},
     "source": [
      "#Slit 1 (SE9)\n",
      "\n",
      "###make initial plot"
     ]
    },
    {
     "cell_type": "code",
     "collapsed": false,
     "input": [
      "photnum = 1\n",
      "make_diagnostic_plot('../../multispec/2014_07_14_slit1', \n",
      "'slit01_3936_phot{}.dat'.format(photnum), \n",
      "'../../multispec/2014_07_14_slit1/out_phot{}/SE9_3936_combined_img_ext001_synt_1.fits'.format(photnum), \n",
      "'SE9_3936_combined_img.fits')\n",
      "pyplot.savefig('../../multispec/2014_07_14_slit1/phot{}_xd_profile.pdf'.format(photnum))"
     ],
     "language": "python",
     "metadata": {},
     "outputs": [],
     "prompt_number": 24
    },
    {
     "cell_type": "markdown",
     "metadata": {},
     "source": [
      "Multispec is ignoring 2 stars below the limiting magnitude\n",
      "\n",
      "Only keeping one star, adding in the other stars"
     ]
    },
    {
     "cell_type": "code",
     "collapsed": false,
     "input": [
      "photnum = 2\n",
      "make_diagnostic_plot('../../multispec/2014_07_14_slit1', \n",
      "'slit01_3936_phot{}.dat'.format(photnum), \n",
      "'../../multispec/2014_07_14_slit1/out_phot{}/SE9_3936_combined_img_ext001_synt_1.fits'.format(photnum), \n",
      "'SE9_3936_combined_img.fits')\n",
      "pyplot.savefig('../../multispec/2014_07_14_slit1/phot{}_xd_profile.pdf'.format(photnum))"
     ],
     "language": "python",
     "metadata": {},
     "outputs": [],
     "prompt_number": 25
    },
    {
     "cell_type": "markdown",
     "metadata": {},
     "source": [
      "not sure what happened here, trying again"
     ]
    },
    {
     "cell_type": "code",
     "collapsed": false,
     "input": [
      "photnum = 3\n",
      "make_diagnostic_plot('../../multispec/2014_07_14_slit1', \n",
      "'slit01_3936_phot{}.dat'.format(photnum), \n",
      "'../../multispec/2014_07_14_slit1/out_phot{}/SE9_3936_combined_img_ext001_synt_1.fits'.format(photnum), \n",
      "'SE9_3936_combined_img.fits')\n",
      "pyplot.savefig('../../multispec/2014_07_14_slit1/phot{}_xd_profile.pdf'.format(photnum))"
     ],
     "language": "python",
     "metadata": {},
     "outputs": [],
     "prompt_number": 26
    },
    {
     "cell_type": "code",
     "collapsed": false,
     "input": [
      "photnum = 4\n",
      "make_diagnostic_plot('../../multispec/2014_07_14_slit1', \n",
      "'slit01_3936_phot{}.dat'.format(photnum), \n",
      "'../../multispec/2014_07_14_slit1/out_phot{}/SE9_3936_combined_img_ext001_synt_1.fits'.format(photnum), \n",
      "'SE9_3936_combined_img.fits')\n",
      "pyplot.savefig('../../multispec/2014_07_14_slit1/phot{}_xd_profile.pdf'.format(photnum))"
     ],
     "language": "python",
     "metadata": {},
     "outputs": [],
     "prompt_number": 54
    },
    {
     "cell_type": "markdown",
     "metadata": {},
     "source": [
      "Adding star at 543.8"
     ]
    },
    {
     "cell_type": "code",
     "collapsed": false,
     "input": [
      "photnum = 5\n",
      "make_diagnostic_plot('../../multispec/2014_07_14_slit1', \n",
      "'slit01_3936_phot{}.dat'.format(photnum), \n",
      "'../..//multispec/2014_07_14_slit1/out_phot{}/SE9_3936_combined_img_ext001_synt_1.fits'.format(photnum), \n",
      "'SE9_3936_combined_img.fits')\n",
      "pyplot.savefig('../../multispec/2014_07_14_slit1/phot{}_xd_profile.pdf'.format(photnum))"
     ],
     "language": "python",
     "metadata": {},
     "outputs": [],
     "prompt_number": 55
    },
    {
     "cell_type": "markdown",
     "metadata": {},
     "source": [
      "magnitude guess of 16 was too high, try 16.5"
     ]
    },
    {
     "cell_type": "code",
     "collapsed": false,
     "input": [
      "photnum = 6\n",
      "make_diagnostic_plot('../../multispec/2014_07_14_slit1', \n",
      "'slit01_3936_phot{}.dat'.format(photnum), \n",
      "'../..//multispec/2014_07_14_slit1/out_phot{}/SE9_3936_combined_img_ext001_synt_1.fits'.format(photnum), \n",
      "'SE9_3936_combined_img.fits')\n",
      "pyplot.savefig('../../multispec/2014_07_14_slit1/phot{}_xd_profile.pdf'.format(photnum))"
     ],
     "language": "python",
     "metadata": {},
     "outputs": [],
     "prompt_number": 56
    },
    {
     "cell_type": "markdown",
     "metadata": {},
     "source": [
      "try a bit fainter and at 582.8"
     ]
    },
    {
     "cell_type": "code",
     "collapsed": false,
     "input": [
      "photnum = 7\n",
      "make_diagnostic_plot('../../multispec/2014_07_14_slit1', \n",
      "'slit01_3936_phot{}.dat'.format(photnum), \n",
      "'../..//multispec/2014_07_14_slit1/out_phot{}/SE9_3936_combined_img_ext001_synt_1.fits'.format(photnum), \n",
      "'SE9_3936_combined_img.fits')\n",
      "pyplot.savefig('../../multispec/2014_07_14_slit1/phot{}_xd_profile.pdf'.format(photnum))"
     ],
     "language": "python",
     "metadata": {},
     "outputs": [],
     "prompt_number": 59
    },
    {
     "cell_type": "markdown",
     "metadata": {},
     "source": [
      "That looks better, moving on to determine CRBACK and NCELLY"
     ]
    },
    {
     "cell_type": "markdown",
     "metadata": {},
     "source": [
      "###NCELLY\n",
      "\n",
      "Background starting at 485 and 585, 100 pixels\n",
      "Closest 2^n = 8\n",
      "NCELLY = 8"
     ]
    },
    {
     "cell_type": "code",
     "collapsed": false,
     "input": [
      "calc_crback('../../multispec/ccd_multispec/cropped_images/SE9_3936_combined_img.fits', \n",
      "            '../../multispec/2014_07_14_slit1/slit1_crback_determination.pdf')"
     ],
     "language": "python",
     "metadata": {},
     "outputs": [
      {
       "output_type": "stream",
       "stream": "stdout",
       "text": [
        "-1.8810215795\n"
       ]
      }
     ],
     "prompt_number": 36
    },
    {
     "cell_type": "markdown",
     "metadata": {},
     "source": [
      "Try CRBACK = 0\n",
      "CRBACK = 0 doesn't have enough background points, trying CRBACK = 5"
     ]
    },
    {
     "cell_type": "markdown",
     "metadata": {},
     "source": [
      "##Slit 02"
     ]
    },
    {
     "cell_type": "markdown",
     "metadata": {},
     "source": [
      "###Phot 1"
     ]
    },
    {
     "cell_type": "code",
     "collapsed": false,
     "input": [
      "photnum = 1\n",
      "make_diagnostic_plot('../../multispec/2014_07_16_slit2', \n",
      "'slit02_3936_phot{}.dat'.format(photnum), \n",
      "'../../multispec/2014_07_16_slit2/out_phot{}/SE8_3936_combined_img_ext001_synt_1.fits'.format(photnum), \n",
      "'SE8_3936_combined_img.fits')\n",
      "\n",
      "pyplot.savefig('../../multispec/2014_07_16_slit2/phot{}_xd_profile.pdf'.format(photnum))"
     ],
     "language": "python",
     "metadata": {},
     "outputs": [],
     "prompt_number": 44
    },
    {
     "cell_type": "markdown",
     "metadata": {},
     "source": [
      "### phot 2"
     ]
    },
    {
     "cell_type": "code",
     "collapsed": false,
     "input": [
      "photnum = 2\n",
      "make_diagnostic_plot('../../multispec/2014_07_16_slit2', \n",
      "'slit02_3936_phot{}.dat'.format(photnum), \n",
      "'../../multispec/2014_07_16_slit2/out_phot{}/SE8_3936_combined_img_ext001_synt_1.fits'.format(photnum), \n",
      "'SE8_3936_combined_img.fits')\n",
      "\n",
      "pyplot.savefig('../../multispec/2014_07_16_slit2/phot{}_xd_profile.pdf'.format(photnum))"
     ],
     "language": "python",
     "metadata": {},
     "outputs": [],
     "prompt_number": 47
    },
    {
     "cell_type": "markdown",
     "metadata": {},
     "source": [
      "###phot3"
     ]
    },
    {
     "cell_type": "code",
     "collapsed": false,
     "input": [
      "photnum = 3\n",
      "make_diagnostic_plot('../../multispec/2014_07_16_slit2', \n",
      "'slit02_3936_phot{}.dat'.format(photnum), \n",
      "'../../multispec/2014_07_16_slit2/out_phot{}/SE8_3936_combined_img_ext001_synt_1.fits'.format(photnum), \n",
      "'SE8_3936_combined_img.fits')\n",
      "\n",
      "pyplot.savefig('../../multispec/2014_07_16_slit2/phot{}_xd_profile.pdf'.format(photnum))"
     ],
     "language": "python",
     "metadata": {},
     "outputs": [],
     "prompt_number": 49
    },
    {
     "cell_type": "markdown",
     "metadata": {},
     "source": [
      "##NCELLY\n",
      "background1 @485\n",
      "background2 @521"
     ]
    },
    {
     "cell_type": "code",
     "collapsed": false,
     "input": [
      "1024.0/(521- 485)\n"
     ],
     "language": "python",
     "metadata": {},
     "outputs": [
      {
       "output_type": "pyout",
       "prompt_number": 51,
       "text": [
        "28.444444444444443"
       ]
      }
     ],
     "prompt_number": 51
    },
    {
     "cell_type": "markdown",
     "metadata": {},
     "source": [
      "try: NCELLY = 16"
     ]
    },
    {
     "cell_type": "code",
     "collapsed": false,
     "input": [
      "1024/16"
     ],
     "language": "python",
     "metadata": {},
     "outputs": [
      {
       "output_type": "pyout",
       "prompt_number": 52,
       "text": [
        "64"
       ]
      }
     ],
     "prompt_number": 52
    },
    {
     "cell_type": "markdown",
     "metadata": {},
     "source": [
      "##CRBACK"
     ]
    },
    {
     "cell_type": "code",
     "collapsed": false,
     "input": [
      "calc_crback('../../multispec/ccd_multispec/cropped_images/SE8_3936_combined_img.fits', \n",
      "            '../../multispec/2014_07_16_slit2/slit2_crback_determination.pdf')"
     ],
     "language": "python",
     "metadata": {},
     "outputs": [
      {
       "output_type": "stream",
       "stream": "stdout",
       "text": [
        "-4.7544712317\n"
       ]
      }
     ],
     "prompt_number": 53
    },
    {
     "cell_type": "markdown",
     "metadata": {},
     "source": [
      "try: CRBACK = -5"
     ]
    },
    {
     "cell_type": "code",
     "collapsed": false,
     "input": [],
     "language": "python",
     "metadata": {},
     "outputs": []
    }
   ],
   "metadata": {}
  }
 ]
}