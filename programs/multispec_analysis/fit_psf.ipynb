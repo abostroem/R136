{
 "metadata": {
  "name": "",
  "signature": "sha256:a2703923f266f53a43fb6388683d9e5bf5d7b5bbcd9d3f27ae8556137f68ecb1"
 },
 "nbformat": 3,
 "nbformat_minor": 0,
 "worksheets": [
  {
   "cells": [
    {
     "cell_type": "code",
     "collapsed": false,
     "input": [
      "%matplotlib\n",
      "from astropy.io import fits\n",
      "from matplotlib import pyplot\n",
      "from scipy.optimize import curve_fit\n",
      "import os\n",
      "import numpy as np"
     ],
     "language": "python",
     "metadata": {},
     "outputs": [
      {
       "output_type": "stream",
       "stream": "stdout",
       "text": [
        "Using matplotlib backend: Qt4Agg\n"
       ]
      }
     ],
     "prompt_number": 1
    },
    {
     "cell_type": "markdown",
     "metadata": {},
     "source": [
      "###Fit a PSF to the XD profile of the brightest star in SE9 over 5A bins in wavelength space, separated by 60 pixels in wavelength space"
     ]
    },
    {
     "cell_type": "code",
     "collapsed": false,
     "input": [
      "def gauss_fit_func(x, a0, a1, a2):\n",
      "    '''\n",
      "    The gaussian fitting function\n",
      "    Input:\n",
      "        x = pixel location\n",
      "        a0 = aplitude\n",
      "        a1 = mean\n",
      "        a2 = sigma (stdev)\n",
      "    Output:\n",
      "        y = gaussuan profile\n",
      "    '''\n",
      "    y = a0 * np.exp(-(x - a1)**2 / a2**2)\n",
      "    return y"
     ],
     "language": "python",
     "metadata": {},
     "outputs": [],
     "prompt_number": 2
    },
    {
     "cell_type": "code",
     "collapsed": false,
     "input": [
      "def fit_gaussian(x, y):\n",
      "    '''\n",
      "    Function to fit data x and y with a gaussian function\n",
      "    Input:\n",
      "        x - array of x values to be fit\n",
      "        y - array of y values to be fit\n",
      "    Output:\n",
      "        parameters - best fit parameters (a0, a1, a2)\n",
      "        yfit - the y values of the fit over the x range\n",
      "        \n",
      "    '''\n",
      "    guess = [350, 10.0, 2.0]\n",
      "    parameters, covariance = curve_fit(gauss_fit_func, x, y)\n",
      "    yfit = gauss_fit_func(np.linspace(x[0], x[-1], num = 200), *parameters)\n",
      "    return parameters, yfit"
     ],
     "language": "python",
     "metadata": {},
     "outputs": [],
     "prompt_number": 3
    },
    {
     "cell_type": "code",
     "collapsed": false,
     "input": [
      "def fit_psf(star_xd_loc, filename, start_pix = 0, spacing = 65, num_profiles = None, outfile = None):\n",
      "    '''\n",
      "    reads in image, and at the star_xd_loc, fits a cross dispersion profile. This is repeated across\n",
      "    as many wavelength bins as num_profiles. 5 pixels in the dispersion direction are collapsed to form\n",
      "    the XD profile. Each XD profile is spaced by 65 pixels to sample when the PSF is centered on 1 pixel\n",
      "    and when the psf is split between 2 pixels\n",
      "\n",
      "    Inputs:\n",
      "        star_xd_loc - y value of brightest star location\n",
      "        filename - name of image file (assumed to reside in ../../multispec/ccd_multispec/cropped_images/)\n",
      "        start_pix - which pixel the XD profile series begins on. Change this when the XD profile at 0 is\n",
      "            split between 2 images\n",
      "        spacing - the separation of the wavelength bins (in pixels)\n",
      "        num_profiles - number of profiles to be plotted. Set this to 1 to make sure the first profile is centered\n",
      "            on a single pixel, otherwise it can be left to its default value\n",
      "        outfile - name of file (including path) to which to save the XD profile plot\n",
      "\n",
      "    output:\n",
      "        outfile - if outfile is specified, the XD profile is saved here\n",
      "        a plot of the variation in width is output to the screen\n",
      "        the fit for each wavelength bin is printed to the screen (amplitude, mean, sigma)\n",
      "        The median and STDEV values of the parameters are printed to the screen\n",
      "    '''\n",
      "    img = fits.getdata(os.path.join('../../multispec/ccd_multispec/cropped_images/', filename), 1)\n",
      "    start_indx = np.arange(start_pix, 1018, spacing) #1018 = 1024  - 6\n",
      "    x = np.arange(21)\n",
      "    fig = pyplot.figure(figsize = [20, 10])\n",
      "    ax1 = fig.add_subplot(1, 3, 1)\n",
      "    ax2 = fig.add_subplot(1, 3, 2)\n",
      "    ax3 = fig.add_subplot(1, 3, 3)\n",
      "    amplitude = []\n",
      "    sigma = []\n",
      "    fit_mean = []\n",
      "    real_mean = []\n",
      "    if not num_profiles:\n",
      "        num_profiles = len(start_indx)\n",
      "    for disp_indx in start_indx[0:num_profiles]:\n",
      "        xd_profile = np.sum(img[star_xd_loc-7:star_xd_loc+14, disp_indx:disp_indx+6 ], axis = 1)\n",
      "        parameters, yfit = fit_gaussian(x, xd_profile)\n",
      "        print parameters[0], parameters[1], parameters[2]\n",
      "        offset = 11 - parameters[1]\n",
      "        ax1.plot(x + offset, xd_profile, 'o', ls = '-')\n",
      "        ax2.plot(np.linspace(x[0], x[-1], num = 200) + offset, yfit)\n",
      "        ax3.plot(x + offset, xd_profile, 'o', ls = '-')\n",
      "        ax3.plot(np.linspace(x[0], x[-1], num = 200) + offset, yfit)\n",
      "        sigma.append(np.abs(parameters[2]))\n",
      "        amplitude.append(parameters[0])\n",
      "        fit_mean.append(parameters[1] + offset)\n",
      "        real_mean.append(parameters[1])\n",
      "    fwhm = 2.0* np.log(2)*np.array(sigma)\n",
      "    for ax in [ax1, ax2, ax3]:\n",
      "        ax.set_xlabel('pixel')\n",
      "        ax.set_ylabel('XD profile')\n",
      "        ax.set_xlim(5, 15)\n",
      "        ax.set_ylim(ax1.get_ylim())\n",
      "    fig.suptitle('Characterizing the PSF')\n",
      "    ax1.set_title('Data')\n",
      "    ax2.set_title('Fit')\n",
      "    ax3.set_title('both')\n",
      "    if outfile:\n",
      "        pyplot.savefig(os.path.join('../../multispec/psf/', outfile))\n",
      "    fig2 = pyplot.figure()\n",
      "    ax4 = fig2.add_subplot(1, 1, 1)\n",
      "    ax4.plot(start_indx[:num_profiles], fwhm)\n",
      "    ax4.set_title('FWHM of XD PSF')\n",
      "    ax4.set_xlabel('Pixel')\n",
      "    ax4.set_ylabel('FWHM')\n",
      "    \n",
      "    median_amp = np.median(np.array(amplitude))\n",
      "    median_mean = np.median(np.array(fit_mean))\n",
      "    median_sigma = np.median(np.array(sigma))\n",
      "    \n",
      "    print '\\namplitude = {} +/- {}'.format(median_amp, np.std(np.array(amplitude)))\n",
      "    print 'median = {} +/- {}'.format(median_mean, np.std(np.array(fit_mean)))\n",
      "    print 'sigma = {} +/- {}'.format(median_sigma, np.std(np.array(sigma)))\n",
      "    pyplot.figure()\n",
      "    psf_center = np.array(real_mean) - 10.5\n",
      "    psf_pixel_range_center = start_indx[0:num_profiles] + 10.5\n",
      "    print psf_center\n",
      "    print psf_pixel_range_center\n",
      "    pyplot.plot(psf_pixel_range_center, psf_center, 'o')\n",
      "\n",
      "    fit_coeff = np.polyfit(psf_pixel_range_center - 512.0, psf_center, 1)\n",
      "    slope = fit_coeff[0]\n",
      "    print '\\nGAUSSIAN = [{}, {}, {}, {}, {}, {}]'.format(median_sigma, median_sigma, median_sigma, -512.0*fit_coeff[0], 0.0, 512.0*fit_coeff[0])\n",
      "    "
     ],
     "language": "python",
     "metadata": {},
     "outputs": [],
     "prompt_number": 6
    },
    {
     "cell_type": "code",
     "collapsed": false,
     "input": [
      "fit_psf(516, 'SE9_3936_combined_img.fits')"
     ],
     "language": "python",
     "metadata": {},
     "outputs": [
      {
       "output_type": "stream",
       "stream": "stdout",
       "text": [
        "3479.49433941 11.9806119207 -1.12467414848\n",
        "3296.98582951 11.5038418829 1.1883341357\n",
        "3979.68724257 10.9341954484 -0.998048258423\n",
        "3669.34375002 10.4991434994 -1.17130349521\n",
        "4279.75968089"
       ]
      },
      {
       "output_type": "stream",
       "stream": "stdout",
       "text": [
        " 9.92919147931 1.00993359339\n",
        "3928.54005514 9.41604686321 -1.13777289401\n",
        "4668.71033615 8.87552590914 0.944956373729\n",
        "4023.11571215 8.38917106385 1.16377542129\n",
        "3737.78440352 7.84068669437 0.94937434623\n",
        "3977.04676739 7.29445825885 -1.15896742592\n",
        "3183.85332502"
       ]
      },
      {
       "output_type": "stream",
       "stream": "stdout",
       "text": [
        " 6.782704692 0.975367719615\n",
        "4215.70019826 6.21315499588 1.16825054601\n",
        "4492.99000379 5.78528996296 1.04644287638\n",
        "3642.70834367 5.20744584679 -1.1910832981\n",
        "4506.71683746 4.77435256327 -1.01292871443\n",
        "4157.65519423 4.18597477042 -1.16839254867\n",
        "\n",
        "amplitude = 3978.36700498 +/- 418.636869043"
       ]
      },
      {
       "output_type": "stream",
       "stream": "stdout",
       "text": [
        "\n",
        "median = 11.0 +/- 0.0\n",
        "sigma = 1.13122352124 +/- 0.0898085136695\n",
        "[  1.48061192e+00   1.00384188e+00   4.34195448e-01  -8.56500591e-04\n",
        "  -5.70808521e-01  -1.08395314e+00  -1.62447409e+00  -2.11082894e+00\n",
        "  -2.65931331e+00  -3.20554174e+00  -3.71729531e+00  -4.28684500e+00\n",
        "  -4.71471004e+00  -5.29255415e+00  -5.72564744e+00  -6.31402523e+00]\n",
        "[  10.5   75.5  140.5  205.5  270.5  335.5  400.5  465.5  530.5  595.5\n",
        "  660.5  725.5  790.5  855.5  920.5  985.5]\n",
        "\n",
        "GAUSSIAN = [1.13122352124, 1.13122352124, 1.13122352124, 4.10402171268, 0.0, -4.10402171268]"
       ]
      },
      {
       "output_type": "stream",
       "stream": "stdout",
       "text": [
        "\n"
       ]
      }
     ],
     "prompt_number": 5
    },
    {
     "cell_type": "code",
     "collapsed": false,
     "input": [
      "fit_psf(516, 'SE9_3936_combined_img.fits', num_profiles = 1, outfile = 'SE9_psf_first_wl_bin.pdf')"
     ],
     "language": "python",
     "metadata": {},
     "outputs": [
      {
       "output_type": "stream",
       "stream": "stdout",
       "text": [
        "3479.49433941 11.9806119207 -1.12467414848\n",
        "\n",
        "amplitude = 3479.49433941 +/- 0.0"
       ]
      },
      {
       "output_type": "stream",
       "stream": "stdout",
       "text": [
        "\n",
        "median = 11.0 +/- 0.0\n",
        "sigma = 1.12467414848 +/- 0.0\n",
        "[ 1.48061192]\n",
        "[ 10.5]\n",
        "\n",
        "GAUSSIAN = [1.12467414848, 1.12467414848, 1.12467414848, 0.755805885736, 0.0, -0.755805885736]"
       ]
      },
      {
       "output_type": "stream",
       "stream": "stdout",
       "text": [
        "\n"
       ]
      },
      {
       "output_type": "stream",
       "stream": "stderr",
       "text": [
        "/Users/abostroem/anaconda/lib/python2.7/site-packages/numpy/lib/polynomial.py:588: RankWarning: Polyfit may be poorly conditioned\n",
        "  warnings.warn(msg, RankWarning)\n"
       ]
      }
     ],
     "prompt_number": 7
    },
    {
     "cell_type": "markdown",
     "metadata": {},
     "source": [
      "check that first point is centered on a pixel (peaked in the middle, 2 points of equal value on either side"
     ]
    },
    {
     "cell_type": "markdown",
     "metadata": {},
     "source": [
      " GAUSSIAN (default: [0,0,0,0,0,0]): By default, MULTISPEC uses a tabular PSF which for the current version is provided for the supported STIS modes. Activating this keyword it uses a Gaussian analytic PSF, which should be done always if the tabular PSF is not present. GAUSSIAN should be a 6-element floating-point vector, with [a] the first three components giving the width of the PSF in pixels and [b] the last three giving the center pf the PSF in pixels for the minimum, central, and maximum wavelengths, respectively."
     ]
    },
    {
     "cell_type": "markdown",
     "metadata": {},
     "source": [
      "So, a first approximation (to be improved on) should be:\n",
      "\n",
      "GAUSSIAN=[1.50/2.35,1.50/2.35,1.50/2.35,4.0,0.0,-4.0]\n",
      "\n",
      "Note that the first three values are divided by 2.35 to convert from FWHM to sigma.\n",
      "\n",
      "Let's do the first improvement, the last three elements (the position center). For the table below, do a linear regression y = a + bx with x = (x-512) coordinate (not lambda) and y = center. Then, the three last values will be:\n",
      "\n",
      "[-512*b,0.0,512*b]\n",
      "\n",
      "which should be close to [4.0,0.0,-4.0].\n",
      "\n",
      "Now, do the fit with [1.50/2.35,1.50/2.35,1.50/2.35,-512*b,0.0,512*b] and see what we get. Things to look for:\n",
      "\n",
      "1. Comparison between library PSF and Gaussian. Do we get smaller residuals?\n",
      "\n",
      "2. If we fine-tune the sigma (e.g. 1.40/2.35 and 1.60/2.35), do things improve?\n",
      "\n",
      "3. Compare the vertical profile plot at e.g. x=512 and x=572. Are they similar?\n"
     ]
    },
    {
     "cell_type": "markdown",
     "metadata": {},
     "source": [
      "GAUSSIAN = [1.13122282485, 1.13122282485, 1.13122282485, 4.1040215992, 0.0, -4.1040215992]"
     ]
    },
    {
     "cell_type": "markdown",
     "metadata": {},
     "source": []
    },
    {
     "cell_type": "code",
     "collapsed": false,
     "input": [
      "pyplot.close()"
     ],
     "language": "python",
     "metadata": {},
     "outputs": [],
     "prompt_number": 51
    },
    {
     "cell_type": "markdown",
     "metadata": {},
     "source": []
    },
    {
     "cell_type": "code",
     "collapsed": false,
     "input": [],
     "language": "python",
     "metadata": {},
     "outputs": []
    }
   ],
   "metadata": {}
  }
 ]
}