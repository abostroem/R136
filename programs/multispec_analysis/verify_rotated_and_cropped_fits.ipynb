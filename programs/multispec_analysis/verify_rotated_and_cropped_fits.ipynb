{
 "metadata": {
  "name": "verify_rotated_and_cropped_fits"
 },
 "nbformat": 3,
 "nbformat_minor": 0,
 "worksheets": [
  {
   "cells": [
    {
     "cell_type": "markdown",
     "metadata": {},
     "source": [
      "This code visually tests the output of rotate_and_crop_fits_files.py by comparing the cropped file to the long slit psuedo image"
     ]
    },
    {
     "cell_type": "code",
     "collapsed": false,
     "input": [
      "from astropy.io import fits\n",
      "from matplotlib import pyplot\n",
      "from mpl_toolkits.axes_grid1 import ImageGrid"
     ],
     "language": "python",
     "metadata": {},
     "outputs": [],
     "prompt_number": 5
    },
    {
     "cell_type": "markdown",
     "metadata": {},
     "source": [
      "###Test 3936"
     ]
    },
    {
     "cell_type": "code",
     "collapsed": false,
     "input": [
      "long_slit_img = fits.getdata('../../multispec/ccd_multispec/long_slit_img_3936.fits', 0)\n",
      "nw8_slit = fits.getdata('../../multispec/ccd_multispec/cropped_images/NW8_3936_combined_img.fits', 1)\n",
      "se9_slit = fits.getdata('../../multispec/ccd_multispec/cropped_images/SE9_3936_combined_img.fits', 1)\n",
      "\n",
      "F = pyplot.figure(figsize = [10, 7])\n",
      "\n",
      "grid = ImageGrid(F, 111, # similar to subplot(111)\n",
      "                nrows_ncols = (1, 3),\n",
      "                axes_pad = 0.01,\n",
      "                add_all=True)\n",
      "grid[0].imshow(se9_slit, interpolation= 'none', vmin = 0, vmax = 100, cmap = 'bone')\n",
      "grid[1].imshow(long_slit_img, interpolation = 'none', vmin = 0, vmax = 100, cmap = 'bone')\n",
      "grid[2].imshow(nw8_slit, interpolation = 'none', vmin = 0, vmax = 100, cmap = 'bone')\n",
      "\n",
      "\n",
      "grid[0].set_ylim(500, 600)\n",
      "grid[0].set_xlim(500, 524)\n",
      "grid[1].set_ylim(500, 600)\n",
      "grid[2].set_ylim(500, 600)\n",
      "grid[2].set_xlim(500, 524)\n",
      "\n",
      "grid[0].set_title('SE9')\n",
      "grid[1].set_title('3936 Long Slit Image')\n",
      "grid[2].set_title('NW8')\n",
      "\n",
      "fig.suptitle('Test crop and rotation of 3936')\n",
      "pyplot.savefig('../../multispec/ccd_multispec/cropped_images/test_3936_crop_rot.pdf')\n",
      "pyplot.close()"
     ],
     "language": "python",
     "metadata": {},
     "outputs": [],
     "prompt_number": 13
    },
    {
     "cell_type": "code",
     "collapsed": false,
     "input": [],
     "language": "python",
     "metadata": {},
     "outputs": [
      {
       "output_type": "pyout",
       "prompt_number": 9,
       "text": [
        "(500, 524)"
       ]
      }
     ],
     "prompt_number": 9
    },
    {
     "cell_type": "code",
     "collapsed": false,
     "input": [],
     "language": "python",
     "metadata": {},
     "outputs": [],
     "prompt_number": 10
    },
    {
     "cell_type": "code",
     "collapsed": false,
     "input": [],
     "language": "python",
     "metadata": {},
     "outputs": []
    }
   ],
   "metadata": {}
  }
 ]
}